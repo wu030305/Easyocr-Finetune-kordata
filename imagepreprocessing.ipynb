{
 "cells": [
  {
   "cell_type": "code",
   "execution_count": null,
   "id": "74bc0e4e",
   "metadata": {},
   "outputs": [],
   "source": [
    "import easyocr\n",
    "import os\n",
    "import cv2\n",
    "import glob\n",
    "import pandas as pd\n",
    "import torch\n",
    "\n",
    "class pre:\n",
    "    def __init__(self, inputpath, savepath, imagepath, ground_truth):\n",
    "        self.inputpath = inputpath # 잘라진 이미지(ocr할 이미지)의 경로\n",
    "        self.savepath = savepath # 보정된 이미지가 저장될 경로\n",
    "        self.imagepath = imagepath # ocr에 들어갈 이미지의 경로 ## 'savepath/image/' 꼴\n",
    "        self.ground_truth = ground_truth\n",
    "\n",
    "    # 이미지 보정\n",
    "    def make_image(self):\n",
    "        i = 0\n",
    "        os.mkdir(\"{0}/image\".format(self.savepath))\n",
    "        for filename in glob.glob(self.inputpath + \"*.jpg\"):\n",
    "            img = cv2.imread(filename)\n",
    "            img = cv2.resize(img, None, fx=1.2, fy=1.2, interpolation=cv2.INTER_CUBIC)  # DPI 300으로 설정\n",
    "            gray = cv2.cvtColor(img, cv2.COLOR_BGR2GRAY)\n",
    "            binary = cv2.threshold(gray, 0, 255, cv2.THRESH_BINARY + cv2.THRESH_OTSU)[1]  # black & white\n",
    "            avg_blur = cv2.blur(binary, (5, 5))\n",
    "            delation = cv2.dilate(avg_blur, (5, 5), iterations=1)\n",
    "            i = i + 1\n",
    "            cv2.imwrite(self.savepath + 'image/' + f'{i}.jpg', delation)\n",
    "\n",
    "    # 보정된 이미지로 ocr 후 csv파일로 return\n",
    "    def run_easyocr(self):\n",
    "        val_img = os.listdir(self.imagepath)\n",
    "        reader = easyocr.Reader(['ko'], gpu=True,\n",
    "                                model_storage_directory='C:/Users/USER/PycharmProjects/ocr/workspace/user_network_dir',\n",
    "                                user_network_directory='C:/Users/USER/PycharmProjects/ocr/workspace/user_network_dir',\n",
    "                                recog_network='custom')\n",
    "        list =[]\n",
    "        for f in val_img:\n",
    "            result = reader.readtext(os.path.join(self.imagepath, f))\n",
    "            text = ''\n",
    "            for i in range(len(result)):\n",
    "                text += result[i][1]\n",
    "            list.append(text)\n",
    "        easyocr_df = pd.DataFrame(list, columns = ['text'])\n",
    "        easyocr_df['image'] = f\n",
    "        easyocr_df.to_csv('easyocr_results.csv', index=False, encoding='utf-8-sig')\n",
    "        \n",
    "        #accuracy\n",
    "        ground_truth_len = len(ground_truth)\n",
    "        our_output_len = len(list)\n",
    "        our_correct = 0\n",
    "    \n",
    "        for i in range(ground_truth_len):\n",
    "            if ground_truth[i] == list[i]:\n",
    "                our_correct += 1\n",
    "\n",
    "        our_accuracy = our_correct / our_output_len\n",
    "        print(our_accuracy)"
   ]
  },
  {
   "cell_type": "code",
   "execution_count": null,
   "id": "5c297d57",
   "metadata": {},
   "outputs": [],
   "source": [
    "    result = reader.readtext(path_cur)\n",
    "    text = ''\n",
    "    for i in range(len(result)):\n",
    "        text += result[i][1]\n",
    "    recognized_text['0001'][file] = (text.replace(' ','').replace('\\n',''))"
   ]
  },
  {
   "cell_type": "code",
   "execution_count": null,
   "id": "a787df28",
   "metadata": {},
   "outputs": [],
   "source": [
    "import pandas as pd\n",
    "import easyocr\n",
    "import os\n",
    "from tqdm.notebook import tqdm\n",
    "import torch\n",
    "import numpy as np\n"
   ]
  },
  {
   "cell_type": "code",
   "execution_count": null,
   "id": "7199dd46",
   "metadata": {},
   "outputs": [],
   "source": [
    "word_based_exactly_matching(ground_truth, our_output)"
   ]
  },
  {
   "cell_type": "code",
   "execution_count": null,
   "id": "f2e03707",
   "metadata": {},
   "outputs": [],
   "source": [
    "import pandas as pd\n",
    "import easyocr\n",
    "import os\n",
    "from tqdm.notebook import tqdm\n",
    "import torch\n",
    "import numpy as np\n",
    "\n",
    "\n",
    "csvNamePath = r\"D:\\DTU-D\\4\\Fagprojekt\\Data\\Clean_Data\\clean_en_train\"\n",
    "csv_data_1 = pd.read_csv(os.path.join(csvNamePath,\"labels.csv\"), sep=\"\t\")\n",
    "csv_data_1[\"path\"] = csv_data_1.shape[0]*[csvNamePath]\n",
    "\n",
    "csvNamePath2 = r\"D:\\DTU-D\\4\\Fagprojekt\\Data\\Clean_Data\\clean_en_val\"\n",
    "csv_data_2 = pd.read_csv(os.path.join(csvNamePath2,\"labels.csv\"), sep=\"\t\")\n",
    "csv_data_2[\"path\"] = csv_data_2.shape[0]*[csvNamePath2]\n",
    "\n",
    "data = pd.concat([\n",
    "    csv_data_1,\n",
    "    csv_data_2\n",
    "], ignore_index=True)\n",
    "\n",
    "reader = easyocr.Reader(['en'])\n",
    "batch = 1\n",
    "rows = data.shape[0]"
   ]
  },
  {
   "cell_type": "code",
   "execution_count": null,
   "id": "b3d37254",
   "metadata": {},
   "outputs": [],
   "source": [
    "results = []\n",
    "ground_truth = []\n",
    "correctIn = 0\n",
    "for i in tqdm(range(rows)):\n",
    "    if i % batch == 0:\n",
    "        del reader\n",
    "        torch.cuda.empty_cache()\n",
    "        reader = easyocr.Reader(['en'])\n",
    "\n",
    "    root_path = data.iloc[i]['path'].lower()\n",
    "    image_name = data.iloc[i]['filename'].lower()\n",
    "    path = os.path.join(root_path,image_name)\n",
    "\n",
    "    result = reader.readtext(path, paragraph=True)\n",
    "    results.append(result)\n",
    "\n",
    "    #Dont judge me\n",
    "    y = data.iloc[i]['words'].split(\",\")[0].replace(\"(\", \"\").replace(\")\", \"\").replace(\" \", \"\").replace(\"[\",\"\").replace(\"\\\"\",\"\").replace(\"]\",\"\").replace(\"\\'\",\"\")\n",
    "    ground_truth.append(y)\n",
    "    for j in range(len(result)):\n",
    "        if y in result[j]:\n",
    "            correctIn += 1\n",
    "            break\n",
    "            \n",
    "# import cv2\n",
    "# result = reader.readtext(path, paragraph=True)\n",
    "# # cv2.imdecode(np.fromfile(path, np.uint8), cv2.IMREAD_UNCHANGED).shape\n",
    "\n",
    "print(f\"pretrained accuracy: {(correctIn/rows)*100}\")\n",
    "\n",
    "# np.savez(\"Variables_results_08_04_2022_detailsOn_paragraphTrue\",\n",
    "#          correctIn=correctIn,\n",
    "#          ground_truth=ground_truth\n",
    "#          results=np.array(results,dtype=object))\n",
    "\n",
    "# np.save(\"Results_07_06_2022_cropped_clean_data_original_model\", np.array(results,dtype=object))"
   ]
  },
  {
   "cell_type": "code",
   "execution_count": 29,
   "id": "6e2e6656",
   "metadata": {},
   "outputs": [
    {
     "ename": "ModuleNotFoundError",
     "evalue": "No module named 'grp'",
     "output_type": "error",
     "traceback": [
      "\u001b[1;31m---------------------------------------------------------------------------\u001b[0m",
      "\u001b[1;31mModuleNotFoundError\u001b[0m                       Traceback (most recent call last)",
      "Input \u001b[1;32mIn [29]\u001b[0m, in \u001b[0;36m<cell line: 5>\u001b[1;34m()\u001b[0m\n\u001b[0;32m      3\u001b[0m \u001b[38;5;28;01mimport\u001b[39;00m \u001b[38;5;21;01mnumpy\u001b[39;00m \u001b[38;5;28;01mas\u001b[39;00m \u001b[38;5;21;01mnp\u001b[39;00m\n\u001b[0;32m      4\u001b[0m \u001b[38;5;28;01mimport\u001b[39;00m \u001b[38;5;21;01measyocr\u001b[39;00m\n\u001b[1;32m----> 5\u001b[0m \u001b[38;5;28;01mfrom\u001b[39;00m \u001b[38;5;21;01mhelper\u001b[39;00m\u001b[38;5;21;01m.\u001b[39;00m\u001b[38;5;21;01mgeneral_utils\u001b[39;00m \u001b[38;5;28;01mimport\u001b[39;00m save_results\n\u001b[0;32m      7\u001b[0m \u001b[38;5;66;03m# DEFINING GLOBAL VARIABLE\u001b[39;00m\n\u001b[0;32m      8\u001b[0m EASY_OCR \u001b[38;5;241m=\u001b[39m easyocr\u001b[38;5;241m.\u001b[39mReader([\u001b[38;5;124m'\u001b[39m\u001b[38;5;124mko\u001b[39m\u001b[38;5;124m'\u001b[39m], gpu\u001b[38;5;241m=\u001b[39m\u001b[38;5;28;01mTrue\u001b[39;00m,\n\u001b[0;32m      9\u001b[0m                                 model_storage_directory\u001b[38;5;241m=\u001b[39m\u001b[38;5;124m'\u001b[39m\u001b[38;5;124mC:/Users/USER/PycharmProjects/ocr/workspace/user_network_dir\u001b[39m\u001b[38;5;124m'\u001b[39m,\n\u001b[0;32m     10\u001b[0m                                 user_network_directory\u001b[38;5;241m=\u001b[39m\u001b[38;5;124m'\u001b[39m\u001b[38;5;124mC:/Users/USER/PycharmProjects/ocr/workspace/user_network_dir\u001b[39m\u001b[38;5;124m'\u001b[39m,\n\u001b[0;32m     11\u001b[0m                                 recog_network\u001b[38;5;241m=\u001b[39m\u001b[38;5;124m'\u001b[39m\u001b[38;5;124mcustom\u001b[39m\u001b[38;5;124m'\u001b[39m)\n",
      "File \u001b[1;32m~\\anaconda3\\lib\\site-packages\\helper\\__init__.py:134\u001b[0m, in \u001b[0;36m<module>\u001b[1;34m\u001b[0m\n\u001b[0;32m      1\u001b[0m \u001b[38;5;124;03m\"\"\"\u001b[39;00m\n\u001b[0;32m      2\u001b[0m \u001b[38;5;124;03m....  ......        ....  .. .                  ....         .\u001b[39;00m\n\u001b[0;32m      3\u001b[0m \u001b[38;5;124;03m.... .......          .   ....                           ....       .        ..\u001b[39;00m\n\u001b[1;32m   (...)\u001b[0m\n\u001b[0;32m    130\u001b[0m \u001b[38;5;124;03m :8=+.,?$:.......................................  .... .............    ..,,=\u001b[39;00m\n\u001b[0;32m    131\u001b[0m \u001b[38;5;124;03m\"\"\"\u001b[39;00m\n\u001b[0;32m    132\u001b[0m \u001b[38;5;28;01mimport\u001b[39;00m \u001b[38;5;21;01msys\u001b[39;00m\n\u001b[1;32m--> 134\u001b[0m \u001b[38;5;28;01mfrom\u001b[39;00m \u001b[38;5;21;01mhelper\u001b[39;00m \u001b[38;5;28;01mimport\u001b[39;00m parser, unix \u001b[38;5;28;01mas\u001b[39;00m platform\n\u001b[0;32m    136\u001b[0m __version__ \u001b[38;5;241m=\u001b[39m \u001b[38;5;124m'\u001b[39m\u001b[38;5;124m2.5.0\u001b[39m\u001b[38;5;124m'\u001b[39m\n\u001b[0;32m    137\u001b[0m version \u001b[38;5;241m=\u001b[39m __version__\n",
      "File \u001b[1;32m~\\anaconda3\\lib\\site-packages\\helper\\unix.py:7\u001b[0m, in \u001b[0;36m<module>\u001b[1;34m\u001b[0m\n\u001b[0;32m      5\u001b[0m \u001b[38;5;28;01mimport\u001b[39;00m \u001b[38;5;21;01matexit\u001b[39;00m\n\u001b[0;32m      6\u001b[0m \u001b[38;5;28;01mimport\u001b[39;00m \u001b[38;5;21;01mdatetime\u001b[39;00m\n\u001b[1;32m----> 7\u001b[0m \u001b[38;5;28;01mimport\u001b[39;00m \u001b[38;5;21;01mgrp\u001b[39;00m\n\u001b[0;32m      8\u001b[0m \u001b[38;5;28;01mimport\u001b[39;00m \u001b[38;5;21;01mlogging\u001b[39;00m\n\u001b[0;32m      9\u001b[0m \u001b[38;5;28;01mimport\u001b[39;00m \u001b[38;5;21;01mos\u001b[39;00m\n",
      "\u001b[1;31mModuleNotFoundError\u001b[0m: No module named 'grp'"
     ]
    }
   ],
   "source": [
    "import torch\n",
    "import cv2\n",
    "import numpy as np\n",
    "import easyocr\n",
    "from helper.general_utils import save_results\n",
    "\n",
    "# DEFINING GLOBAL VARIABLE\n",
    "EASY_OCR = easyocr.Reader(['ko'], gpu=True,\n",
    "                                model_storage_directory='C:/Users/USER/PycharmProjects/ocr/workspace/user_network_dir',\n",
    "                                user_network_directory='C:/Users/USER/PycharmProjects/ocr/workspace/user_network_dir',\n",
    "                                recog_network='custom')\n",
    "OCR_TH = 0.2\n",
    "\n",
    "# -------------------------------------- function to run detection ---------------------------------------------------------\n",
    "def detectx(frame, model):\n",
    "    frame = [frame]\n",
    "    print(f\"[INFO] Detecting. . . \")\n",
    "    results = model(frame)\n",
    "    results.show()\n",
    "    # print(results.xyxyn[0])\n",
    "    # print(results.xyxyn[0][:, -1])\n",
    "    # print(results.xyxyn[0][:, :-1])\n",
    "\n",
    "    labels, cordinates = results.xyxyn[0][:, -1], results.xyxyn[0][:, :-1]\n",
    "\n",
    "    return labels, cordinates\n",
    "\n",
    "\n",
    "# ------------------------------------ to plot the BBox and results ---------------------------------------\n",
    "def plot_boxes(results, frame, classes):\n",
    "    labels, cord = results\n",
    "    n = len(labels)\n",
    "    x_shape, y_shape = frame.shape[1], frame.shape[0]\n",
    "    print(f\"[INFO] Total {n} detections. . . \")\n",
    "    print(f\"[INFO] Looping through all detections. . . \")\n",
    "\n",
    "# -------------------------------------looping through the detections------------------------------------\n",
    "    for i in range(n):\n",
    "        row = cord[i]\n",
    "        if row[4] >= 0.55:  ### threshold value for detection. We are discarding everything below this value\n",
    "            print(f\"[INFO] Extracting BBox coordinates. . . \")\n",
    "            x1, y1, x2, y2 = int(row[0] * x_shape), int(row[1] * y_shape), int(row[2] * x_shape), int(\n",
    "                row[3] * y_shape)  ## BBOx coordniates\n",
    "            text_d = classes[int(labels[i])]\n",
    "            #cv2.imwrite(\"dp.jpg\",frame[int(y1):int(y2), int(x1):int(x2)])\n",
    "\n",
    "            coords = [x1, y1, x2, y2]\n",
    "\n",
    "            plate_num, accuracy = recognize_plate_easyocr(img=frame, coords=coords, reader=EASY_OCR, region_threshold=OCR_TH)\n",
    "\n",
    "            print(f\"result -> {plate_num}\")\n",
    "            # if text_d == 'mask':\n",
    "            cv2.rectangle(frame, (x1, y1), (x2, y2), (0, 255, ), 2)  ## BBox\n",
    "            cv2.rectangle(frame, (x1, y1 - 20), (x2, y1), (0, 255, ), -2)  ## for text label background\n",
    "            cv2.putText(frame, f\"{plate_num}\", (x1, y1), cv2.FONT_HERSHEY_SIMPLEX, 0.6, (255, 255, 255), 2)\n",
    "\n",
    "            #cv2.imwrite(\"np.jpg\",frame[int(y1)-25:int(y2)+25, int(x1)-25:int(x2)+25])\n",
    "\n",
    "    return frame, plate_num, accuracy\n",
    "\n",
    "\n",
    "# ---------------------------- function to recognize scratch card --------------------------------------\n",
    "\n",
    "# function to recognize license plate numbers using Tesseract OCR\n",
    "def recognize_plate_easyocr(img, coords, reader, region_threshold):\n",
    "    # separate coordinates from box\n",
    "    xmin, ymin, xmax, ymax = coords\n",
    "    # get the subimage that makes up the bounded region and take an additional 5 pixels on each side\n",
    "    # nplate = img[int(ymin)-5:int(ymax)+5, int(xmin)-5:int(xmax)+5]\n",
    "    nplate = img[int(ymin):int(ymax), int(xmin):int(xmax)]  ### cropping the number plate from the whole image\n",
    "\n",
    "    ocr_result = reader.readtext(nplate)\n",
    "\n",
    "    text, accuracy = filter_text(region=nplate, ocr_result=ocr_result, region_threshold=region_threshold)\n",
    "\n",
    "    if len(text) == 1:\n",
    "        text = text[0].upper()\n",
    "    return text, accuracy\n",
    "\n",
    "# to filter out wrong detections\n",
    "\n",
    "def filter_text(region, ocr_result, region_threshold):\n",
    "    rectangle_size = region.shape[0] * region.shape[1]\n",
    "\n",
    "    scratch_card = []\n",
    "    save_results(ocr_result[-1], 'ocr_results.csv', 'Detection_Images')\n",
    "    print(ocr_result[0][-1])\n",
    "    accuracy = str(ocr_result[0][-1])\n",
    "\n",
    "    for result in ocr_result:\n",
    "        length = np.sum(np.subtract(result[0][1], result[0][0]))\n",
    "        height = np.sum(np.subtract(result[0][2], result[0][1]))\n",
    "\n",
    "        if length * height / rectangle_size > region_threshold:\n",
    "            scratch_card.append(result[1])\n",
    "    return scratch_card, accuracy\n",
    "\n",
    "\n",
    "# ---------------------------------------------- Main function -----------------------------------------------------\n",
    "\n",
    "def mainFun(img_path=None, vid_path=None, vid_out=None):\n",
    "    print(f\"[INFO] Loading model... \")\n",
    "    ## loading the custom trained model\n",
    "    # model =  torch.hub.load('ultralytics/yolov5', 'custom', path='last.pt',force_reload=True) ## if you want to download the git repo and then run the detection\n",
    "    model = torch.hub.load('E:/yolov5-master', 'custom', source='local', path='best_card.pt',\n",
    "                           force_reload=True)  ### The repo is stored locally\n",
    "\n",
    "    classes = model.names  ### class names in string format\n",
    "\n",
    "# --------------- for detection on image --------------------\n",
    "    if img_path != None:\n",
    "        print(f\"[INFO] Working with image: {img_path}\")\n",
    "        # img_out_name = f\"./output/result_{img_path.split('/')[-1]}\"\n",
    "\n",
    "        frame = cv2.imread(img_path)  ### reading the image\n",
    "        frame = cv2.cvtColor(frame, cv2.COLOR_BGR2RGB)\n",
    "\n",
    "        results = detectx(frame, model=model)  ### DETECTION HAPPENING HERE\n",
    "\n",
    "        frame = cv2.cvtColor(frame, cv2.COLOR_RGB2BGR)\n",
    "\n",
    "        frame, number, accuracy = plot_boxes(results, frame, classes=classes)\n",
    "        # while True:\n",
    "        #     #frame = cv2.cvtColor(frame,cv2.COLOR_RGB2BGR)\n",
    "        #     cv2.imwrite(\"img2.jpg\", frame)\n",
    "        #     break\n",
    "        print(f\"[INFO] Clening up. . . \")\n",
    "        return number, accuracy\n",
    "# -------------------  calling the main function-------------------------------\n",
    "# mainFun(img_path=\"./test_images/3.jpg\")  ## for image"
   ]
  },
  {
   "cell_type": "code",
   "execution_count": null,
   "id": "a6c858a2",
   "metadata": {},
   "outputs": [],
   "source": []
  },
  {
   "cell_type": "code",
   "execution_count": 4,
   "id": "44006f8d",
   "metadata": {},
   "outputs": [],
   "source": [
    "def test(dir_path, model, reader):\n",
    "    plates, plate_numbers = [], []\n",
    "    for root, dirs, files in os.walk(dir_path):  \n",
    "        for filename in files:\n",
    "            plates.append(filename)\n",
    "\n",
    "    for filename in plates:\n",
    "        image = cv2.imread(f'{dir_path}/{filename}')    \n",
    "        img_gray = cv2.cvtColor(image, cv2.COLOR_BGR2GRAY)\n",
    "        result = model(img_gray)\n",
    "        cordinates = result.xyxyn[0][:, :-1]\n",
    "        width, height = image.shape[1], image.shape[0]\n",
    "\n",
    "        for row in cordinates:\n",
    "            x1, y1, x2, y2 = int(row[0]*width), int(row[1]*height), int(row[2]*width), int(row[3]*height)    \n",
    "            read = reader.readtext(\n",
    "                img_gray[y1:y2, x1:x2], \n",
    "                allowlist='0123456789АВЕКМНОРСТУХ'\n",
    "            )\n",
    "\n",
    "            plate = ''\n",
    "            for i in range(len(read)):\n",
    "                if i < 2 and read[i][-1] > 0.5:\n",
    "                    plate += read[i][-2]\n",
    "                elif read[i][-1] > 0.8:\n",
    "                    plate += read[i][-2]\n",
    "\n",
    "            plate_numbers.append(plate)\n",
    "    return plate_numbers"
   ]
  },
  {
   "cell_type": "code",
   "execution_count": 5,
   "id": "d75f7484",
   "metadata": {},
   "outputs": [],
   "source": [
    "target = ['김혜림',\n",
    "           '82.11.15',\n",
    "           '청주시 흥덕구 오송생명 14로 215. 107동 301호',\n",
    "           '010-1234-5678',\n",
    "           '여',\n",
    "           '국립중앙인체자원은행',\n",
    "           '043-719-6531',\n",
    "           '2022년 12월 26일',\n",
    "           '김혜림',\n",
    "           '이미희',\n",
    "           '김혜림',\n",
    "           '82.11.15',\n",
    "           '오송생명 14로 215. 107동 301호',\n",
    "           '010-1234-5678',\n",
    "           '여',\n",
    "           '홍길동',\n",
    "           '043-719-1234',\n",
    "           '2022년 12월 26일',\n",
    "           '김혜림',\n",
    "           '이미희',\n",
    "           '김혜림',\n",
    "           '2022.12.26',\n",
    "           '홍길동']"
   ]
  },
  {
   "cell_type": "code",
   "execution_count": 10,
   "id": "ea325664",
   "metadata": {
    "scrolled": true
   },
   "outputs": [
    {
     "name": "stderr",
     "output_type": "stream",
     "text": [
      "Cloning into 'yolov5'...\n"
     ]
    }
   ],
   "source": [
    "!git clone https://github.com/ultralytics/yolov5"
   ]
  },
  {
   "cell_type": "code",
   "execution_count": 18,
   "id": "dce31c2d",
   "metadata": {},
   "outputs": [
    {
     "name": "stderr",
     "output_type": "stream",
     "text": [
      "CUDA not available - defaulting to CPU. Note: This module is much faster with a GPU.\n",
      "YOLOv5  v7.0-72-g064365d Python-3.9.12 torch-1.13.1+cpu CPU\n",
      "\n"
     ]
    },
    {
     "ename": "Exception",
     "evalue": "'model'. Cache may be out of date, try `force_reload=True` or see https://github.com/ultralytics/yolov5/issues/36 for help.",
     "output_type": "error",
     "traceback": [
      "\u001b[1;31m---------------------------------------------------------------------------\u001b[0m",
      "\u001b[1;31mAssertionError\u001b[0m                            Traceback (most recent call last)",
      "File \u001b[1;32m~\\PycharmProjects\\ocr\\yolov5\\hubconf.py:49\u001b[0m, in \u001b[0;36m_create\u001b[1;34m(name, pretrained, channels, classes, autoshape, verbose, device)\u001b[0m\n\u001b[0;32m     48\u001b[0m \u001b[38;5;28;01mtry\u001b[39;00m:\n\u001b[1;32m---> 49\u001b[0m     model \u001b[38;5;241m=\u001b[39m \u001b[43mDetectMultiBackend\u001b[49m\u001b[43m(\u001b[49m\u001b[43mpath\u001b[49m\u001b[43m,\u001b[49m\u001b[43m \u001b[49m\u001b[43mdevice\u001b[49m\u001b[38;5;241;43m=\u001b[39;49m\u001b[43mdevice\u001b[49m\u001b[43m,\u001b[49m\u001b[43m \u001b[49m\u001b[43mfuse\u001b[49m\u001b[38;5;241;43m=\u001b[39;49m\u001b[43mautoshape\u001b[49m\u001b[43m)\u001b[49m  \u001b[38;5;66;03m# detection model\u001b[39;00m\n\u001b[0;32m     50\u001b[0m     \u001b[38;5;28;01mif\u001b[39;00m autoshape:\n",
      "File \u001b[1;32m~\\PycharmProjects\\ocr\\yolov5\\models\\common.py:336\u001b[0m, in \u001b[0;36mDetectMultiBackend.__init__\u001b[1;34m(self, weights, device, dnn, data, fp16, fuse)\u001b[0m\n\u001b[0;32m    335\u001b[0m w \u001b[38;5;241m=\u001b[39m \u001b[38;5;28mstr\u001b[39m(weights[\u001b[38;5;241m0\u001b[39m] \u001b[38;5;28;01mif\u001b[39;00m \u001b[38;5;28misinstance\u001b[39m(weights, \u001b[38;5;28mlist\u001b[39m) \u001b[38;5;28;01melse\u001b[39;00m weights)\n\u001b[1;32m--> 336\u001b[0m pt, jit, onnx, xml, engine, coreml, saved_model, pb, tflite, edgetpu, tfjs, paddle, triton \u001b[38;5;241m=\u001b[39m \u001b[38;5;28;43mself\u001b[39;49m\u001b[38;5;241;43m.\u001b[39;49m\u001b[43m_model_type\u001b[49m\u001b[43m(\u001b[49m\u001b[43mw\u001b[49m\u001b[43m)\u001b[49m\n\u001b[0;32m    337\u001b[0m fp16 \u001b[38;5;241m&\u001b[39m\u001b[38;5;241m=\u001b[39m pt \u001b[38;5;129;01mor\u001b[39;00m jit \u001b[38;5;129;01mor\u001b[39;00m onnx \u001b[38;5;129;01mor\u001b[39;00m engine  \u001b[38;5;66;03m# FP16\u001b[39;00m\n",
      "File \u001b[1;32m~\\PycharmProjects\\ocr\\yolov5\\models\\common.py:607\u001b[0m, in \u001b[0;36mDetectMultiBackend._model_type\u001b[1;34m(p)\u001b[0m\n\u001b[0;32m    606\u001b[0m \u001b[38;5;28;01mif\u001b[39;00m \u001b[38;5;129;01mnot\u001b[39;00m is_url(p, check\u001b[38;5;241m=\u001b[39m\u001b[38;5;28;01mFalse\u001b[39;00m):\n\u001b[1;32m--> 607\u001b[0m     \u001b[43mcheck_suffix\u001b[49m\u001b[43m(\u001b[49m\u001b[43mp\u001b[49m\u001b[43m,\u001b[49m\u001b[43m \u001b[49m\u001b[43msf\u001b[49m\u001b[43m)\u001b[49m  \u001b[38;5;66;03m# checks\u001b[39;00m\n\u001b[0;32m    608\u001b[0m url \u001b[38;5;241m=\u001b[39m urlparse(p)  \u001b[38;5;66;03m# if url may be Triton inference server\u001b[39;00m\n",
      "File \u001b[1;32m~\\PycharmProjects\\ocr\\yolov5\\utils\\general.py:452\u001b[0m, in \u001b[0;36mcheck_suffix\u001b[1;34m(file, suffix, msg)\u001b[0m\n\u001b[0;32m    451\u001b[0m \u001b[38;5;28;01mif\u001b[39;00m \u001b[38;5;28mlen\u001b[39m(s):\n\u001b[1;32m--> 452\u001b[0m     \u001b[38;5;28;01massert\u001b[39;00m s \u001b[38;5;129;01min\u001b[39;00m suffix, \u001b[38;5;124mf\u001b[39m\u001b[38;5;124m\"\u001b[39m\u001b[38;5;132;01m{\u001b[39;00mmsg\u001b[38;5;132;01m}\u001b[39;00m\u001b[38;5;132;01m{\u001b[39;00mf\u001b[38;5;132;01m}\u001b[39;00m\u001b[38;5;124m acceptable suffix is \u001b[39m\u001b[38;5;132;01m{\u001b[39;00msuffix\u001b[38;5;132;01m}\u001b[39;00m\u001b[38;5;124m\"\u001b[39m\n",
      "\u001b[1;31mAssertionError\u001b[0m: C:\\Users\\USER\\PycharmProjects\\ocr\\workspace\\user_network_dir\\custom.pth acceptable suffix is ['.pt', '.torchscript', '.onnx', '_openvino_model', '.engine', '.mlmodel', '_saved_model', '.pb', '.tflite', '_edgetpu.tflite', '_web_model', '_paddle_model']",
      "\nDuring handling of the above exception, another exception occurred:\n",
      "\u001b[1;31mKeyError\u001b[0m                                  Traceback (most recent call last)",
      "File \u001b[1;32m~\\PycharmProjects\\ocr\\yolov5\\hubconf.py:60\u001b[0m, in \u001b[0;36m_create\u001b[1;34m(name, pretrained, channels, classes, autoshape, verbose, device)\u001b[0m\n\u001b[0;32m     59\u001b[0m     \u001b[38;5;28;01mexcept\u001b[39;00m \u001b[38;5;167;01mException\u001b[39;00m:\n\u001b[1;32m---> 60\u001b[0m         model \u001b[38;5;241m=\u001b[39m \u001b[43mattempt_load\u001b[49m\u001b[43m(\u001b[49m\u001b[43mpath\u001b[49m\u001b[43m,\u001b[49m\u001b[43m \u001b[49m\u001b[43mdevice\u001b[49m\u001b[38;5;241;43m=\u001b[39;49m\u001b[43mdevice\u001b[49m\u001b[43m,\u001b[49m\u001b[43m \u001b[49m\u001b[43mfuse\u001b[49m\u001b[38;5;241;43m=\u001b[39;49m\u001b[38;5;28;43;01mFalse\u001b[39;49;00m\u001b[43m)\u001b[49m  \u001b[38;5;66;03m# arbitrary model\u001b[39;00m\n\u001b[0;32m     61\u001b[0m \u001b[38;5;28;01melse\u001b[39;00m:\n",
      "File \u001b[1;32m~\\PycharmProjects\\ocr\\yolov5\\models\\experimental.py:80\u001b[0m, in \u001b[0;36mattempt_load\u001b[1;34m(weights, device, inplace, fuse)\u001b[0m\n\u001b[0;32m     79\u001b[0m ckpt \u001b[38;5;241m=\u001b[39m torch\u001b[38;5;241m.\u001b[39mload(attempt_download(w), map_location\u001b[38;5;241m=\u001b[39m\u001b[38;5;124m'\u001b[39m\u001b[38;5;124mcpu\u001b[39m\u001b[38;5;124m'\u001b[39m)  \u001b[38;5;66;03m# load\u001b[39;00m\n\u001b[1;32m---> 80\u001b[0m ckpt \u001b[38;5;241m=\u001b[39m (ckpt\u001b[38;5;241m.\u001b[39mget(\u001b[38;5;124m'\u001b[39m\u001b[38;5;124mema\u001b[39m\u001b[38;5;124m'\u001b[39m) \u001b[38;5;129;01mor\u001b[39;00m \u001b[43mckpt\u001b[49m\u001b[43m[\u001b[49m\u001b[38;5;124;43m'\u001b[39;49m\u001b[38;5;124;43mmodel\u001b[39;49m\u001b[38;5;124;43m'\u001b[39;49m\u001b[43m]\u001b[49m)\u001b[38;5;241m.\u001b[39mto(device)\u001b[38;5;241m.\u001b[39mfloat()  \u001b[38;5;66;03m# FP32 model\u001b[39;00m\n\u001b[0;32m     82\u001b[0m \u001b[38;5;66;03m# Model compatibility updates\u001b[39;00m\n",
      "\u001b[1;31mKeyError\u001b[0m: 'model'",
      "\nThe above exception was the direct cause of the following exception:\n",
      "\u001b[1;31mException\u001b[0m                                 Traceback (most recent call last)",
      "Input \u001b[1;32mIn [18]\u001b[0m, in \u001b[0;36m<cell line: 6>\u001b[1;34m()\u001b[0m\n\u001b[0;32m      1\u001b[0m reader \u001b[38;5;241m=\u001b[39m easyocr\u001b[38;5;241m.\u001b[39mReader([\u001b[38;5;124m'\u001b[39m\u001b[38;5;124mko\u001b[39m\u001b[38;5;124m'\u001b[39m], gpu\u001b[38;5;241m=\u001b[39m\u001b[38;5;28;01mTrue\u001b[39;00m,\n\u001b[0;32m      2\u001b[0m                                 model_storage_directory\u001b[38;5;241m=\u001b[39m\u001b[38;5;124m'\u001b[39m\u001b[38;5;124mC:/Users/USER/PycharmProjects/ocr/workspace/user_network_dir\u001b[39m\u001b[38;5;124m'\u001b[39m,\n\u001b[0;32m      3\u001b[0m                                 user_network_directory\u001b[38;5;241m=\u001b[39m\u001b[38;5;124m'\u001b[39m\u001b[38;5;124mC:/Users/USER/PycharmProjects/ocr/workspace/user_network_dir\u001b[39m\u001b[38;5;124m'\u001b[39m,\n\u001b[0;32m      4\u001b[0m                                 recog_network\u001b[38;5;241m=\u001b[39m\u001b[38;5;124m'\u001b[39m\u001b[38;5;124mcustom\u001b[39m\u001b[38;5;124m'\u001b[39m)\n\u001b[1;32m----> 6\u001b[0m model \u001b[38;5;241m=\u001b[39m \u001b[43mtorch\u001b[49m\u001b[38;5;241;43m.\u001b[39;49m\u001b[43mhub\u001b[49m\u001b[38;5;241;43m.\u001b[39;49m\u001b[43mload\u001b[49m\u001b[43m(\u001b[49m\n\u001b[0;32m      7\u001b[0m \u001b[43m    \u001b[49m\u001b[38;5;124;43m'\u001b[39;49m\u001b[38;5;124;43myolov5\u001b[39;49m\u001b[38;5;124;43m'\u001b[39;49m\u001b[43m,\u001b[49m\u001b[43m \u001b[49m\n\u001b[0;32m      8\u001b[0m \u001b[43m    \u001b[49m\u001b[38;5;124;43m'\u001b[39;49m\u001b[38;5;124;43mcustom\u001b[39;49m\u001b[38;5;124;43m'\u001b[39;49m\u001b[43m,\u001b[49m\u001b[43m                  \u001b[49m\n\u001b[0;32m      9\u001b[0m \u001b[43m    \u001b[49m\u001b[43mpath\u001b[49m\u001b[38;5;241;43m=\u001b[39;49m\u001b[38;5;124;43m'\u001b[39;49m\u001b[38;5;124;43mC:/Users/USER/PycharmProjects/ocr/workspace/user_network_dir/custom.pth\u001b[39;49m\u001b[38;5;124;43m'\u001b[39;49m\u001b[43m,\u001b[49m\u001b[43m \u001b[49m\n\u001b[0;32m     10\u001b[0m \u001b[43m    \u001b[49m\u001b[43mforce_reload\u001b[49m\u001b[38;5;241;43m=\u001b[39;49m\u001b[38;5;28;43;01mTrue\u001b[39;49;00m\u001b[43m,\u001b[49m\n\u001b[0;32m     11\u001b[0m \u001b[43m    \u001b[49m\u001b[43msource\u001b[49m\u001b[38;5;241;43m=\u001b[39;49m\u001b[38;5;124;43m'\u001b[39;49m\u001b[38;5;124;43mlocal\u001b[39;49m\u001b[38;5;124;43m'\u001b[39;49m\n\u001b[0;32m     12\u001b[0m \u001b[43m)\u001b[49m\n",
      "File \u001b[1;32m~\\anaconda3\\lib\\site-packages\\torch\\hub.py:542\u001b[0m, in \u001b[0;36mload\u001b[1;34m(repo_or_dir, model, source, trust_repo, force_reload, verbose, skip_validation, *args, **kwargs)\u001b[0m\n\u001b[0;32m    538\u001b[0m \u001b[38;5;28;01mif\u001b[39;00m source \u001b[38;5;241m==\u001b[39m \u001b[38;5;124m'\u001b[39m\u001b[38;5;124mgithub\u001b[39m\u001b[38;5;124m'\u001b[39m:\n\u001b[0;32m    539\u001b[0m     repo_or_dir \u001b[38;5;241m=\u001b[39m _get_cache_or_reload(repo_or_dir, force_reload, trust_repo, \u001b[38;5;124m\"\u001b[39m\u001b[38;5;124mload\u001b[39m\u001b[38;5;124m\"\u001b[39m,\n\u001b[0;32m    540\u001b[0m                                        verbose\u001b[38;5;241m=\u001b[39mverbose, skip_validation\u001b[38;5;241m=\u001b[39mskip_validation)\n\u001b[1;32m--> 542\u001b[0m model \u001b[38;5;241m=\u001b[39m _load_local(repo_or_dir, model, \u001b[38;5;241m*\u001b[39margs, \u001b[38;5;241m*\u001b[39m\u001b[38;5;241m*\u001b[39mkwargs)\n\u001b[0;32m    543\u001b[0m \u001b[38;5;28;01mreturn\u001b[39;00m model\n",
      "File \u001b[1;32m~\\anaconda3\\lib\\site-packages\\torch\\hub.py:572\u001b[0m, in \u001b[0;36m_load_local\u001b[1;34m(hubconf_dir, model, *args, **kwargs)\u001b[0m\n\u001b[0;32m    569\u001b[0m hub_module \u001b[38;5;241m=\u001b[39m _import_module(MODULE_HUBCONF, hubconf_path)\n\u001b[0;32m    571\u001b[0m entry \u001b[38;5;241m=\u001b[39m _load_entry_from_hubconf(hub_module, model)\n\u001b[1;32m--> 572\u001b[0m model \u001b[38;5;241m=\u001b[39m entry(\u001b[38;5;241m*\u001b[39margs, \u001b[38;5;241m*\u001b[39m\u001b[38;5;241m*\u001b[39mkwargs)\n\u001b[0;32m    574\u001b[0m sys\u001b[38;5;241m.\u001b[39mpath\u001b[38;5;241m.\u001b[39mremove(hubconf_dir)\n\u001b[0;32m    576\u001b[0m \u001b[38;5;28;01mreturn\u001b[39;00m model\n",
      "File \u001b[1;32m~\\PycharmProjects\\ocr\\yolov5\\hubconf.py:83\u001b[0m, in \u001b[0;36mcustom\u001b[1;34m(path, autoshape, _verbose, device)\u001b[0m\n\u001b[0;32m     81\u001b[0m \u001b[38;5;28;01mdef\u001b[39;00m \u001b[38;5;21mcustom\u001b[39m(path\u001b[38;5;241m=\u001b[39m\u001b[38;5;124m'\u001b[39m\u001b[38;5;124mpath/to/model.pt\u001b[39m\u001b[38;5;124m'\u001b[39m, autoshape\u001b[38;5;241m=\u001b[39m\u001b[38;5;28;01mTrue\u001b[39;00m, _verbose\u001b[38;5;241m=\u001b[39m\u001b[38;5;28;01mTrue\u001b[39;00m, device\u001b[38;5;241m=\u001b[39m\u001b[38;5;28;01mNone\u001b[39;00m):\n\u001b[0;32m     82\u001b[0m     \u001b[38;5;66;03m# YOLOv5 custom or local model\u001b[39;00m\n\u001b[1;32m---> 83\u001b[0m     \u001b[38;5;28;01mreturn\u001b[39;00m \u001b[43m_create\u001b[49m\u001b[43m(\u001b[49m\u001b[43mpath\u001b[49m\u001b[43m,\u001b[49m\u001b[43m \u001b[49m\u001b[43mautoshape\u001b[49m\u001b[38;5;241;43m=\u001b[39;49m\u001b[43mautoshape\u001b[49m\u001b[43m,\u001b[49m\u001b[43m \u001b[49m\u001b[43mverbose\u001b[49m\u001b[38;5;241;43m=\u001b[39;49m\u001b[43m_verbose\u001b[49m\u001b[43m,\u001b[49m\u001b[43m \u001b[49m\u001b[43mdevice\u001b[49m\u001b[38;5;241;43m=\u001b[39;49m\u001b[43mdevice\u001b[49m\u001b[43m)\u001b[49m\n",
      "File \u001b[1;32m~\\PycharmProjects\\ocr\\yolov5\\hubconf.py:78\u001b[0m, in \u001b[0;36m_create\u001b[1;34m(name, pretrained, channels, classes, autoshape, verbose, device)\u001b[0m\n\u001b[0;32m     76\u001b[0m help_url \u001b[38;5;241m=\u001b[39m \u001b[38;5;124m'\u001b[39m\u001b[38;5;124mhttps://github.com/ultralytics/yolov5/issues/36\u001b[39m\u001b[38;5;124m'\u001b[39m\n\u001b[0;32m     77\u001b[0m s \u001b[38;5;241m=\u001b[39m \u001b[38;5;124mf\u001b[39m\u001b[38;5;124m'\u001b[39m\u001b[38;5;132;01m{\u001b[39;00me\u001b[38;5;132;01m}\u001b[39;00m\u001b[38;5;124m. Cache may be out of date, try `force_reload=True` or see \u001b[39m\u001b[38;5;132;01m{\u001b[39;00mhelp_url\u001b[38;5;132;01m}\u001b[39;00m\u001b[38;5;124m for help.\u001b[39m\u001b[38;5;124m'\u001b[39m\n\u001b[1;32m---> 78\u001b[0m \u001b[38;5;28;01mraise\u001b[39;00m \u001b[38;5;167;01mException\u001b[39;00m(s) \u001b[38;5;28;01mfrom\u001b[39;00m \u001b[38;5;21;01me\u001b[39;00m\n",
      "\u001b[1;31mException\u001b[0m: 'model'. Cache may be out of date, try `force_reload=True` or see https://github.com/ultralytics/yolov5/issues/36 for help."
     ]
    }
   ],
   "source": [
    "reader = easyocr.Reader(['ko'], gpu=True,\n",
    "                                model_storage_directory='C:/Users/USER/PycharmProjects/ocr/workspace/user_network_dir',\n",
    "                                user_network_directory='C:/Users/USER/PycharmProjects/ocr/workspace/user_network_dir',\n",
    "                                recog_network='custom')\n",
    "\n",
    "model = torch.hub.load(\n",
    "    'yolov5', \n",
    "    'custom',                  \n",
    "    path='C:/Users/USER/PycharmProjects/ocr/workspace/user_network_dir/custom.pth', \n",
    "    force_reload=True,\n",
    "    source='local'\n",
    ")"
   ]
  },
  {
   "cell_type": "code",
   "execution_count": null,
   "id": "9e26f36f",
   "metadata": {},
   "outputs": [],
   "source": [
    "custom = test('/content/test', model, reader)"
   ]
  },
  {
   "cell_type": "code",
   "execution_count": 9,
   "id": "4f6c2a17",
   "metadata": {},
   "outputs": [
    {
     "ename": "NameError",
     "evalue": "name 'custom' is not defined",
     "output_type": "error",
     "traceback": [
      "\u001b[1;31m---------------------------------------------------------------------------\u001b[0m",
      "\u001b[1;31mNameError\u001b[0m                                 Traceback (most recent call last)",
      "Input \u001b[1;32mIn [9]\u001b[0m, in \u001b[0;36m<cell line: 1>\u001b[1;34m()\u001b[0m\n\u001b[1;32m----> 1\u001b[0m \u001b[38;5;28;01mfor\u001b[39;00m i \u001b[38;5;129;01min\u001b[39;00m \u001b[38;5;28mrange\u001b[39m(\u001b[38;5;28mlen\u001b[39m(\u001b[43mcustom\u001b[49m)):\n\u001b[0;32m      2\u001b[0m     \u001b[38;5;28;01mif\u001b[39;00m custom[i] \u001b[38;5;241m==\u001b[39m \u001b[38;5;124m'\u001b[39m\u001b[38;5;124m'\u001b[39m:\n\u001b[0;32m      3\u001b[0m         custom[i] \u001b[38;5;241m=\u001b[39m \u001b[38;5;124m'\u001b[39m\u001b[38;5;124mnone\u001b[39m\u001b[38;5;124m'\u001b[39m\n",
      "\u001b[1;31mNameError\u001b[0m: name 'custom' is not defined"
     ]
    }
   ],
   "source": [
    "for i in range(len(custom)):\n",
    "    if custom[i] == '':\n",
    "        custom[i] = 'none'\n",
    "cer_custom = cer(custom, target)\n",
    "wer_custom = wer(custom, target)"
   ]
  },
  {
   "cell_type": "code",
   "execution_count": null,
   "id": "95af988a",
   "metadata": {},
   "outputs": [],
   "source": [
    "def accuracy(graund_trought, predict):\n",
    "    sum = 0\n",
    "    for i in range(len(graund_trought)):\n",
    "        sum += int(graund_trought[i] == predict[i])\n",
    "    return sum / len(graund_trought)"
   ]
  },
  {
   "cell_type": "code",
   "execution_count": null,
   "id": "d22d11c3",
   "metadata": {},
   "outputs": [],
   "source": [
    "print('custom easyocr:')\n",
    "print(f'accuracy: {accuracy(custom, target)}')"
   ]
  },
  {
   "cell_type": "code",
   "execution_count": null,
   "id": "a04b4ea5",
   "metadata": {},
   "outputs": [],
   "source": []
  },
  {
   "cell_type": "code",
   "execution_count": 19,
   "id": "b94d8ea3",
   "metadata": {},
   "outputs": [],
   "source": [
    "import easyocr\n",
    "from sklearn.metrics import accuracy_score\n",
    "import os\n",
    "import shutil\n",
    "import json\n",
    "import itertools\n",
    "import cv2\n",
    "import glob\n",
    "import numpy as np\n",
    "from scipy.spatial import distance as dist\n",
    "import matplotlib.pyplot as plt \n",
    "import requests\n",
    "from PIL import Image\n",
    "import pandas as pd"
   ]
  },
  {
   "cell_type": "code",
   "execution_count": null,
   "id": "2f177db5",
   "metadata": {},
   "outputs": [],
   "source": [
    "#이미지 가져오기\n",
    "img = cv2.imread(img_path)\n",
    "print(img.shape)"
   ]
  },
  {
   "cell_type": "code",
   "execution_count": null,
   "id": "6dc1682c",
   "metadata": {},
   "outputs": [],
   "source": [
    "# ocr의 표준 권장 해상도는 300dpi (600dpi를 초과하면 이미지 크기만 증가, 처리시간만 늘어날뿐 정확도 개선은 X) \n",
    "# 이미지 크기 재조정\n",
    "img = cv2.resize(img, None, fx=1.2, fy=1.2, interpolation=cv2.INTER_CUBIC)"
   ]
  },
  {
   "cell_type": "code",
   "execution_count": null,
   "id": "8b51c8e2",
   "metadata": {},
   "outputs": [],
   "source": [
    "#흑백 변환\n",
    "gray = cv2.cvtColor(image, cv2.COLOR_BGR2GRAY) # color -> grayscale\n",
    "binary = cv2.threshold(gray, 0, 255, cv2.THRESH_OTSU) # grascale -> binary\n",
    "#노이즈 제거\n",
    "gaussianblur = cv2.GaussianBlur(binary, (3, 3), 0) \n",
    "bilateralfilter = cv2.bilateralFilter(gaussianblur, 9, 75, 75)\n",
    "edgepreservingfilter = cv2.edgePreservingFilter(bilateralfilter, flags=1, sigma_s=45, sigma_r=0.2)"
   ]
  },
  {
   "cell_type": "code",
   "execution_count": null,
   "id": "87ae9d9d",
   "metadata": {},
   "outputs": [],
   "source": [
    "#canny 엣지 검출\n",
    "canny = cv2.Canny(edgepreservingfilter, 75, 200, True)"
   ]
  },
  {
   "cell_type": "code",
   "execution_count": null,
   "id": "fd227c7e",
   "metadata": {},
   "outputs": [],
   "source": [
    "#모폴로지 연산\n",
    "kernel = np.ones((3, 1), np.uint8)\n",
    "src_morphology = cv2.morphologyEx(canny, cv2.MORPH_OPEN, kernel)"
   ]
  },
  {
   "cell_type": "markdown",
   "id": "f413bc0a",
   "metadata": {},
   "source": [
    "---------------------"
   ]
  },
  {
   "cell_type": "code",
   "execution_count": 2,
   "id": "9ec105ea",
   "metadata": {},
   "outputs": [],
   "source": [
    "## 0. DPI을 300으로 설정"
   ]
  },
  {
   "cell_type": "code",
   "execution_count": 3,
   "id": "1eb4c2f5",
   "metadata": {},
   "outputs": [],
   "source": [
    "## 1: Grayscale image: BGR(blue + green + red)을 GRAY로 색상을 바꾸는 작업\n",
    "#Grayscale \n",
    "def get_grayscale(img):\n",
    "    return cv2.cvtColor(img, cv2.COLOR_BGR2GRAY)"
   ]
  },
  {
   "cell_type": "code",
   "execution_count": 4,
   "id": "c5ec1d7f",
   "metadata": {},
   "outputs": [],
   "source": [
    "## 2: grayscale로 변환한 이미지를 흑백(이진화) 이미지로 바꾸는 작업\n",
    "#Binary(black & white)\n",
    "def thresholding(image):\n",
    "    return cv2.threshold(image, 0, 255, cv2.THRESH_BINARY + cv2.THRESH_OTSU)[1]"
   ]
  },
  {
   "cell_type": "code",
   "execution_count": 93,
   "id": "2a9f6688",
   "metadata": {},
   "outputs": [],
   "source": [
    "##3: Blur 처리: 이미지의 노이즈를 제거하는 작업\n",
    "\n",
    "# 평균 블러링(Average Blurring)\n",
    "# 모든 픽셀에 동일한 가중치 부여\n",
    "def avg_blur(image, kernel_size=(5,5)):\n",
    "    return cv2.blur(image, kernel_size)\n",
    "\n",
    "# 가우시안 블러링(Gaussian Blurring)\n",
    "# 중심에 있는 픽셀에 높은 가중치 부여\n",
    "def gau_blur(image, kernel_size=(5,5)):\n",
    "    return cv2.GaussianBlur(image, kernel_size, 0)\n",
    "\n",
    "# 미디언 블러링(Median Blurring)\n",
    "# 커널 크기 내 픽셀을 크기 순으로 정렬 후 중간값을 뽑아 픽셀로 사용\n",
    "def median_blur(image, kernel_size=5):\n",
    "    return cv2.medianBlur(image, ksize=kernel_size)\n",
    "\n",
    "#양방향 필터\n",
    "def bilateral_blur(image):\n",
    "    return cv2.bilateralFilter(image, 9, 75, 75)\n",
    "\n",
    "#가장자리 보존 필터\n",
    "def edgepreserving_blur(image):\n",
    "    return cv2.edgePreservingFilter(image, flags=1, sigma_s=45, sigma_r=0.2)"
   ]
  },
  {
   "cell_type": "code",
   "execution_count": 6,
   "id": "ea6e5eb8",
   "metadata": {},
   "outputs": [],
   "source": [
    "## 4: Morphology 변환: 이미지의 특정 부분을 조건에 맞춰 변환하는 작업\n",
    "\n",
    "# Dilation(팽창)\n",
    "# 객체 외곽 픽셀 주변에 1(흰색) 추가 -> 이미지 경계를 기준으로 팽창하는 효과 발생\n",
    "def delation(image):\n",
    "    kernel = np.ones((5,5), np.unit8)\n",
    "    result = cv2.dilate(image, kernel, iterations=1)\n",
    "    return result\n",
    "    \n",
    "# Erosion(침식)\n",
    "# 객체 외곽 픽셀 주변에 0(검은색) 추가 -> 이미지 경계를 기준으로 침식하는 효과 발생\n",
    "def erosion(image):\n",
    "    kernel = np.ones((5,5), np.uint8)\n",
    "    result = cv2.erode(image, kernel, iterations=1)\n",
    "    return result \n",
    "    \n",
    "# Opening(침식 -> 팽창)\n",
    "# 이미지 상의 작은 잡티, 물체 등을 제거하는 효과 발생\n",
    "def open(image):\n",
    "    kernel = np.ones((5,5), np.uint8)\n",
    "    result = cv2.morphologyEx(image, cv.MORPH_OPEN, kernel)\n",
    "    return result\n",
    "    \n",
    "# Closing(팽창 -> 침식)\n",
    "# 전체적인 윤곽을 뚜렷하게 보이는 효과 발생\n",
    "def close(image):\n",
    "    kernel = np.ones((5,5), np.unit8)\n",
    "    result = cv2.morphologyEx(image, cv.MORPH_CLOSE, kernel)\n",
    "    return result"
   ]
  },
  {
   "cell_type": "code",
   "execution_count": 56,
   "id": "9545747f",
   "metadata": {},
   "outputs": [],
   "source": [
    "## 이미지 가져오기\n",
    "\n",
    "# TRY 1\n",
    "path = 'C:/Users/USER/PycharmProjects/ocr/cropped/' #폴더경로\n",
    "os.chdir(path) # 해당 폴더로 이동\n",
    "files = os.listdir(path) # 해당 폴더에 있는 파일 이름을 리스트 형태로 받음"
   ]
  },
  {
   "cell_type": "code",
   "execution_count": 96,
   "id": "478cace8",
   "metadata": {},
   "outputs": [
    {
     "name": "stdout",
     "output_type": "stream",
     "text": [
      "['cropped_10_0.jpg', 'cropped_10_1.jpg', 'cropped_10_2.jpg', 'cropped_10_3.jpg', 'cropped_10_4.jpg', 'cropped_10_5.jpg', 'cropped_10_6.jpg', 'cropped_11_0.jpg', 'cropped_11_1.jpg', 'cropped_11_3.jpg', 'cropped_12_0.jpg', 'cropped_12_1.jpg', 'cropped_12_2.jpg', 'cropped_12_3.jpg', 'cropped_12_4.jpg', 'cropped_12_8.jpg', 'cropped_12_9.jpg', 'cropped_13_0.jpg', 'cropped_13_1.jpg', 'cropped_13_3.jpg', 'cropped_7_0.jpg', 'cropped_7_2.jpg', 'cropped_7_7.jpg']\n"
     ]
    }
   ],
   "source": [
    "print(files)"
   ]
  },
  {
   "cell_type": "code",
   "execution_count": 97,
   "id": "39b4cec7",
   "metadata": {},
   "outputs": [],
   "source": [
    "for file in files:\n",
    "    f = cv2.imread('C:/Users/USER/PycharmProjects/ocr/cropped/'+ file)"
   ]
  },
  {
   "cell_type": "code",
   "execution_count": 98,
   "id": "8703d9bc",
   "metadata": {},
   "outputs": [
    {
     "data": {
      "text/plain": [
       "array([[[255, 255, 255],\n",
       "        [255, 255, 255],\n",
       "        [254, 254, 254],\n",
       "        ...,\n",
       "        [246, 246, 246],\n",
       "        [249, 249, 249],\n",
       "        [253, 253, 253]],\n",
       "\n",
       "       [[250, 250, 250],\n",
       "        [250, 250, 250],\n",
       "        [250, 250, 250],\n",
       "        ...,\n",
       "        [247, 247, 247],\n",
       "        [249, 249, 249],\n",
       "        [254, 254, 254]],\n",
       "\n",
       "       [[250, 250, 250],\n",
       "        [250, 250, 250],\n",
       "        [250, 250, 250],\n",
       "        ...,\n",
       "        [248, 248, 248],\n",
       "        [246, 246, 246],\n",
       "        [252, 252, 252]],\n",
       "\n",
       "       ...,\n",
       "\n",
       "       [[249, 253, 247],\n",
       "        [249, 253, 247],\n",
       "        [250, 254, 248],\n",
       "        ...,\n",
       "        [254, 253, 255],\n",
       "        [254, 253, 255],\n",
       "        [255, 254, 255]],\n",
       "\n",
       "       [[255, 255, 244],\n",
       "        [255, 255, 244],\n",
       "        [255, 255, 244],\n",
       "        ...,\n",
       "        [255, 254, 255],\n",
       "        [255, 254, 255],\n",
       "        [255, 254, 255]],\n",
       "\n",
       "       [[235, 228, 213],\n",
       "        [235, 228, 213],\n",
       "        [235, 228, 213],\n",
       "        ...,\n",
       "        [255, 254, 255],\n",
       "        [255, 254, 255],\n",
       "        [255, 254, 255]]], dtype=uint8)"
      ]
     },
     "execution_count": 98,
     "metadata": {},
     "output_type": "execute_result"
    }
   ],
   "source": [
    "f"
   ]
  },
  {
   "cell_type": "code",
   "execution_count": 102,
   "id": "ccad6e33",
   "metadata": {},
   "outputs": [
    {
     "data": {
      "text/plain": [
       "<function matplotlib.pyplot.show(close=None, block=None)>"
      ]
     },
     "execution_count": 102,
     "metadata": {},
     "output_type": "execute_result"
    },
    {
     "data": {
      "image/png": "[encoded data removed]",
      "text/plain": [
       "<Figure size 432x288 with 1 Axes>"
      ]
     },
     "metadata": {
      "needs_background": "light"
     },
     "output_type": "display_data"
    }
   ],
   "source": [
    "# 이미지 크기 재조정(300dpi)\n",
    "img = cv2.resize(f, None, fx=1.2, fy=1.2, interpolation=cv2.INTER_CUBIC)\n",
    "plt.imshow(cv2.cvtColor(img, cv2.COLOR_BGR2RGB))\n",
    "plt.title('picture')\n",
    "plt.show"
   ]
  },
  {
   "cell_type": "code",
   "execution_count": 128,
   "id": "da4644dc",
   "metadata": {
    "scrolled": false
   },
   "outputs": [
    {
     "data": {
      "image/png": "[encoded data removed]",
      "text/plain": [
       "<Figure size 432x288 with 23 Axes>"
      ]
     },
     "metadata": {},
     "output_type": "display_data"
    }
   ],
   "source": [
    "# TRY 2\n",
    "fig = plt.figure() # rows*cols 행렬의 i번째 subplot 생성\n",
    "rows = 12\n",
    "cols = 2\n",
    "i = 1\n",
    "\n",
    "for filename in glob.glob(\"C:/Users/USER/PycharmProjects/ocr/cropped/*.jpg\"):\n",
    "    img = cv2.imread(filename)\n",
    "    img = cv2.resize(img, None, fx=1.2, fy=1.2, interpolation=cv2.INTER_CUBIC) # fx, fy: 가로, 세로 사이즈의 배수\n",
    "    ax = fig.add_subplot(rows, cols, i)\n",
    "    ax.imshow(cv2.cvtColor(img, cv2.COLOR_BGR2RGB))\n",
    "    ax.set_xticks([]), ax.set_yticks([])\n",
    "    i += 1\n",
    " \n",
    "plt.show()"
   ]
  },
  {
   "cell_type": "code",
   "execution_count": 136,
   "id": "3c7590f1",
   "metadata": {},
   "outputs": [],
   "source": [
    "# TRY 3\n",
    "pre_file_path = 'C:/Users/USER/PycharmProjects/ocr/cropped_pre/' # 이미지가 저장될 폴더 경로\n",
    "list_images = glob.glob(\"C:/Users/USER/PycharmProjects/ocr/cropped/*.jpg\") # 타겟 폴더에서 jpg 파일의 경로들을 리스트로 저장\n",
    "i = 0 # 파일 이름 저장 시 변경해줄 번호\n",
    "for filename in list_images: # 반복을 위한 for문\n",
    "    img = Image.open(filename)\n",
    "    i = i+1\n",
    "    img.save(pre_file_path + f'{i}.jpg', dpi=(300.0, 300.0))"
   ]
  },
  {
   "cell_type": "code",
   "execution_count": 145,
   "id": "597ffe40",
   "metadata": {},
   "outputs": [],
   "source": [
    "## 최종 structure\n",
    "# input path, save path를 주면 전처리된 이미지를 리턴\n",
    "input_path = 'C:/Users/USER/PycharmProjects/ocr/cropped/'\n",
    "save_path = 'C:/Users/USER/PycharmProjects/ocr/save_image/' \n",
    "i = 0\n",
    "for filename in glob.glob(input_path +\"*.jpg\"):\n",
    "    img = cv2.imread(filename)\n",
    "    img = cv2.resize(img, None, fx=1.2, fy=1.2, interpolation=cv2.INTER_CUBIC) \n",
    "    gray = cv2.cvtColor(img, cv2.COLOR_BGR2GRAY)\n",
    "    binary = cv2.threshold(gray, 0, 255, cv2.THRESH_BINARY + cv2.THRESH_OTSU)[1]\n",
    "    GaussianBlur = cv2.GaussianBlur(binary, (7, 7), 3)\n",
    "    i = i+1\n",
    "    cv2.imwrite(save_path + f'{i}.jpg', GaussianBlur)"
   ]
  },
  {
   "cell_type": "markdown",
   "id": "e487020e",
   "metadata": {},
   "source": [
    "여러 조합으로 실험 후 가장 좋은 결과를 보인 전처리 과정을 main.py 클래스 안에 추가할 예정"
   ]
  },
  {
   "cell_type": "code",
   "execution_count": 81,
   "id": "e62c235a",
   "metadata": {},
   "outputs": [
    {
     "data": {
      "image/png": "[encoded data removed]",
      "text/plain": [
       "<Figure size 432x288 with 1 Axes>"
      ]
     },
     "metadata": {
      "needs_background": "light"
     },
     "output_type": "display_data"
    }
   ],
   "source": [
    "# gray scale \n",
    "gray= cv2.cvtColor(img, cv2.COLOR_BGR2GRAY)\n",
    "plt.imshow(gray, cmap='gray')\n",
    "plt.title('gray')\n",
    "plt.show()"
   ]
  },
  {
   "cell_type": "code",
   "execution_count": 82,
   "id": "2dbb70f2",
   "metadata": {},
   "outputs": [
    {
     "data": {
      "image/png": "[encoded data removed]",
      "text/plain": [
       "<Figure size 432x288 with 1 Axes>"
      ]
     },
     "metadata": {
      "needs_background": "light"
     },
     "output_type": "display_data"
    }
   ],
   "source": [
    "# 흑백 변환\n",
    "binary = cv2.threshold(gray, 0, 255, cv2.THRESH_BINARY + cv2.THRESH_OTSU)[1]\n",
    "plt.imshow(binary, cmap='gray')\n",
    "plt.title('binary')\n",
    "plt.show()"
   ]
  },
  {
   "cell_type": "code",
   "execution_count": 86,
   "id": "34fa308e",
   "metadata": {},
   "outputs": [
    {
     "data": {
      "image/png": "[encoded data removed]",
      "text/plain": [
       "<Figure size 432x288 with 1 Axes>"
      ]
     },
     "metadata": {
      "needs_background": "light"
     },
     "output_type": "display_data"
    }
   ],
   "source": [
    "# 가우시안 필터 \n",
    "# 노이즈가 있는 이미지가 아니라서 블러처리는 안해도 될 듯\n",
    "GaussianBlur = cv2.GaussianBlur(binary, (7, 7), 3)\n",
    "plt.imshow(GaussianBlur, cmap='gray')\n",
    "plt.title('GaussianBlur')\n",
    "plt.show()"
   ]
  },
  {
   "cell_type": "code",
   "execution_count": 87,
   "id": "d584c094",
   "metadata": {},
   "outputs": [
    {
     "data": {
      "image/png": "[encoded data removed]",
      "text/plain": [
       "<Figure size 432x288 with 1 Axes>"
      ]
     },
     "metadata": {
      "needs_background": "light"
     },
     "output_type": "display_data"
    }
   ],
   "source": [
    "bilateralFilter=cv2.bilateralFilter(GaussianBlur, 9, 75, 75)\n",
    "plt.imshow(bilateralFilter, cmap='gray')\n",
    "plt.title('bilateralFilter')\n",
    "plt.show() "
   ]
  },
  {
   "cell_type": "code",
   "execution_count": 91,
   "id": "ba9ea3c7",
   "metadata": {},
   "outputs": [
    {
     "data": {
      "image/png": "[encoded data removed]",
      "text/plain": [
       "<Figure size 432x288 with 1 Axes>"
      ]
     },
     "metadata": {
      "needs_background": "light"
     },
     "output_type": "display_data"
    }
   ],
   "source": [
    "edgePreservingFilter=cv2.edgePreservingFilter(gray, flags=1, sigma_s=45, sigma_r=0.2)\n",
    "plt.imshow(edgePreservingFilter, cmap='gray')\n",
    "plt.title('edgePreservingFilter')\n",
    "plt.show() "
   ]
  },
  {
   "cell_type": "code",
   "execution_count": 92,
   "id": "67e94b25",
   "metadata": {},
   "outputs": [
    {
     "data": {
      "image/png": "[encoded data removed]",
      "text/plain": [
       "<Figure size 432x288 with 1 Axes>"
      ]
     },
     "metadata": {
      "needs_background": "light"
     },
     "output_type": "display_data"
    }
   ],
   "source": [
    "plt.imshow(cv2.Canny(edgePreservingFilter, 75, 200, True))\n",
    "plt.title('Canny')\n",
    "plt.show()"
   ]
  },
  {
   "cell_type": "code",
   "execution_count": 146,
   "id": "a727494f",
   "metadata": {},
   "outputs": [],
   "source": [
    "gt_list = ['김혜림',\n",
    "           '82.11.15',\n",
    "           '청주시 흥덕구 오송생명 14로 215. 107동 301호',\n",
    "           '010-1234-5678',\n",
    "           '여',\n",
    "           '국립중앙인체자원은행',\n",
    "           '043-719-6531',\n",
    "           '2022년 12월 26일',\n",
    "           '김혜림',\n",
    "           '이미희',\n",
    "           '김혜림',\n",
    "           '82.11.15',\n",
    "           '오송생명 14로 215. 107동 301호',\n",
    "           '010-1234-5678',\n",
    "           '여',\n",
    "           '홍길동',\n",
    "           '043-719-1234',\n",
    "           '2022년 12월 26일',\n",
    "           '김혜림',\n",
    "           '이미희',\n",
    "           '김혜림',\n",
    "           '2022.12.26',\n",
    "           '홍길동']"
   ]
  },
  {
   "cell_type": "code",
   "execution_count": 163,
   "id": "c17aad24",
   "metadata": {},
   "outputs": [
    {
     "name": "stderr",
     "output_type": "stream",
     "text": [
      "CUDA not available - defaulting to CPU. Note: This module is much faster with a GPU.\n"
     ]
    },
    {
     "name": "stdout",
     "output_type": "stream",
     "text": [
      "['김 혜립']\n",
      "['똑2', '((, (다']\n",
      "['%꾸시   흉', '*상면 ((고', '리다', '(0,논 201볼']\n",
      "['0(-(2 나', '-', '다67안']\n",
      "[]\n",
      "['굶갑룹이인저[자원은다0']\n",
      "['0나거 - 719', '시4쥐 1']\n",
      "['722', '년', '(?월 라일']\n",
      "['기', '예4']\n",
      "['이미희']\n",
      "['기 혀 라']\n",
      "[\"영리(-'다\"]\n",
      "['(헌생 명', '(4라', '리다', '[00논', '3011']\n",
      "['0(0- (234', '', '다67안']\n",
      "[]\n",
      "['홍길 또']\n",
      "['04거', '1 (9', '[234']\n",
      "['72', '년 (고월 리일']\n",
      "['길 혀림']\n",
      "['이미후(']\n",
      "['기 5리']\n",
      "['7시2', '(2']\n",
      "['홍긴등']\n"
     ]
    }
   ],
   "source": [
    "IMG_PATH = r'C:\\Users\\USER\\PycharmProjects\\ocr\\cropped'\n",
    "val_img = os.listdir(IMG_PATH)\n",
    "reader = easyocr.Reader(['ko'], gpu=True)\n",
    "for f in val_img:\n",
    "    result = reader.readtext(os.path.join(IMG_PATH, f))\n",
    "    img_df = pd.DataFrame(result, columns=['bbox', 'text', 'conf'])\n",
    "    predict_list = list(img_df['text'])\n",
    "    print(predict_list)"
   ]
  },
  {
   "cell_type": "code",
   "execution_count": 164,
   "id": "a04cd83b",
   "metadata": {},
   "outputs": [
    {
     "name": "stderr",
     "output_type": "stream",
     "text": [
      "CUDA not available - defaulting to CPU. Note: This module is much faster with a GPU.\n"
     ]
    },
    {
     "name": "stdout",
     "output_type": "stream",
     "text": [
      "['김 혜립']\n",
      "['이미희']\n",
      "['기 혀 라']\n",
      "[\"리(-'다\"]\n",
      "['(헌생 명', '(4라', '리다', '[00논', '\"이구']\n",
      "['[(0-1234 - 다67안']\n",
      "[]\n",
      "['@길 동']\n",
      "['04거', '1 (9', '[234']\n",
      "['2 22', '년 (고월 리일']\n",
      "['길 혀4']\n",
      "['똑2', '((. (다']\n",
      "['이미후']\n",
      "['기 5리']\n",
      "['702', '(2', '2']\n",
      "['홍기등']\n",
      "['%꾸시   흉', '만상명 ((꽤 리다', '(0,논 2012']\n",
      "['0(-(2, 나', '-', '다67양']\n",
      "[]\n",
      "['굳추증이인저자원은다0']\n",
      "['0나거', '-', '79', '시4쥐 1']\n",
      "['7시22', '년', '(?월 라']\n",
      "['7', '예4']\n"
     ]
    }
   ],
   "source": [
    "IMG_PATH = r'C:\\Users\\USER\\PycharmProjects\\ocr\\cropped_pre'\n",
    "val_img = os.listdir(IMG_PATH)\n",
    "reader = easyocr.Reader(['ko'], gpu=True)\n",
    "for f in val_img:\n",
    "    result = reader.readtext(os.path.join(IMG_PATH, f))\n",
    "    img_df = pd.DataFrame(result, columns=['bbox', 'text', 'conf'])\n",
    "    predict_list = list(img_df['text'])\n",
    "    print(predict_list)"
   ]
  },
  {
   "cell_type": "code",
   "execution_count": 3,
   "id": "9a730cc7",
   "metadata": {},
   "outputs": [
    {
     "name": "stderr",
     "output_type": "stream",
     "text": [
      "CUDA not available - defaulting to CPU. Note: This module is much faster with a GPU.\n"
     ]
    },
    {
     "name": "stdout",
     "output_type": "stream",
     "text": [
      "['김혜험']\n",
      "['용고', '내']\n",
      "['최꾸시홍터가', '민족생명요', '리다', '매동주이원']\n",
      "['이꺼고주나', '역', '디미마']\n",
      "[]\n",
      "['굳칼망인체지원은매시']\n",
      "['애구미미', '바귀']\n",
      "['근성', '년', '오고콜라빛']\n",
      "['김', '혜림']\n",
      "['이미회']\n",
      "['김혜대']\n",
      "['없나']\n",
      "['연따생명', '나켓', '리다', '매름', '각미초']\n",
      "['미어고주나', '미', '다머가업']\n",
      "[]\n",
      "['름일통']\n",
      "['아나주', '미억', '머구나']\n",
      "['래다', '비오리있']\n",
      "['김혜럼']\n",
      "['미미회']\n",
      "['김혜림']\n",
      "['근선', '[그']\n",
      "['홍질등']\n"
     ]
    }
   ],
   "source": [
    "IMG_PATH = r'C:\\Users\\USER\\PycharmProjects\\ocr\\cropped'\n",
    "val_img = os.listdir(IMG_PATH)\n",
    "reader = easyocr.Reader(['ko'], gpu=True,\n",
    "                    model_storage_directory='C:/Users/USER/PycharmProjects/ocr/workspace/user_network_dir',\n",
    "                    user_network_directory='C:/Users/USER/PycharmProjects/ocr/workspace/user_network_dir',\n",
    "                    recog_network='custom')\n",
    "for f in val_img:\n",
    "    result = reader.readtext(os.path.join(IMG_PATH, f))\n",
    "    img_df = pd.DataFrame(result, columns=['bbox', 'text', 'conf'])\n",
    "    predict_list = list(img_df['text'])\n",
    "    print(predict_list)"
   ]
  },
  {
   "cell_type": "code",
   "execution_count": 31,
   "id": "99208f56",
   "metadata": {},
   "outputs": [],
   "source": [
    "class preprocessing:\n",
    "    def __init__(self, inputpath, savepath,imagepath):\n",
    "        self.inputpath = inputpath\n",
    "        self.savepath = savepath\n",
    "        self.imagepath = imagepath\n",
    "    \n",
    "    # 이미지 보정\n",
    "    def make_image(self):\n",
    "        i = 0\n",
    "        os.mkdir(\"{0}/gb\".format(self.savepath))\n",
    "        for filename in glob.glob(self.inputpath +\"*.jpg\"):\n",
    "            img = cv2.imread(filename)\n",
    "            img = cv2.resize(img, None, fx=1.2, fy=1.2, interpolation=cv2.INTER_CUBIC) # DPI 300으로 설정\n",
    "            gray = cv2.cvtColor(img, cv2.COLOR_BGR2GRAY) # grayscale\n",
    "            binary = cv2.threshold(gray, 0, 255, cv2.THRESH_BINARY + cv2.THRESH_OTSU)[1] # black & white\n",
    "            avg_blur = cv2.blur(binary, (5,5)) \n",
    "            delation = cv2.dilate(avg_blur, (5,5), iterations=1)\n",
    "            i = i+1\n",
    "            cv2.imwrite(self.savepath + f'{i}.jpg', delation)\n",
    "    \n",
    "    # 보정된 이미지로 OCR\n",
    "    def img_ocr(self):\n",
    "        val_img = os.listdir(self.imagepath)\n",
    "        reader = easyocr.Reader(['ko'], gpu=True,\n",
    "                            model_storage_directory='C:/Users/USER/PycharmProjects/ocr/workspace/user_network_dir',\n",
    "                            user_network_directory='C:/Users/USER/PycharmProjects/ocr/workspace/user_network_dir',\n",
    "                            recog_network='custom')\n",
    "        for f in val_img:\n",
    "            result = reader.readtext(os.path.join(self.imagepath, f))\n",
    "            img_df = pd.DataFrame(result, columns=['bbox', 'text', 'conf'])\n",
    "            predict_list = list(img_df['text'])\n",
    "        return print(predict_list)"
   ]
  },
  {
   "cell_type": "code",
   "execution_count": 33,
   "id": "f357494a",
   "metadata": {},
   "outputs": [],
   "source": [
    "a = preprocessing(r\"C:\\Users\\USER\\PycharmProjects\\ocr\\cropped\",r\"C:\\Users\\USER\\PycharmProjects\\ocr\\imagepreprocessing\",r\"C:\\Users\\USER\\PycharmProjects\\ocr\\imagepreprocessing\\grad\")\n",
    "img = a.make_image()\n",
    "ocr = a.img_ocr"
   ]
  },
  {
   "cell_type": "markdown",
   "id": "250d6fe1",
   "metadata": {},
   "source": [
    "그레이 + 흑백 + 평균 + 팽창"
   ]
  },
  {
   "cell_type": "code",
   "execution_count": 11,
   "id": "b27614e2",
   "metadata": {},
   "outputs": [],
   "source": [
    "input_path = 'C:/Users/USER/PycharmProjects/ocr/cropped/'\n",
    "save_path = 'C:/Users/USER/PycharmProjects/ocr/imagepreprocessing/' \n",
    "i = 0\n",
    "os.mkdir(\"{0}/gbaa\".format(save_path))\n",
    "for filename in glob.glob(input_path +\"*.jpg\"):\n",
    "    img = cv2.imread(filename)\n",
    "    img = cv2.resize(img, None, fx=1.2, fy=1.2, interpolation=cv2.INTER_CUBIC) \n",
    "    gray = cv2.cvtColor(img, cv2.COLOR_BGR2GRAY)\n",
    "    binary = cv2.threshold(gray, 0, 255, cv2.THRESH_BINARY + cv2.THRESH_OTSU)[1]\n",
    "    avg_blur = cv2.blur(binary, (5,5)) \n",
    "    delation = cv2.dilate(avg_blur, (5,5), iterations=1)\n",
    "    i = i+1\n",
    "    cv2.imwrite(save_path +'gbad/' + f'{i}.jpg', delation)"
   ]
  },
  {
   "cell_type": "code",
   "execution_count": 28,
   "id": "d31ad751",
   "metadata": {},
   "outputs": [
    {
     "name": "stderr",
     "output_type": "stream",
     "text": [
      "CUDA not available - defaulting to CPU. Note: This module is much faster with a GPU.\n"
     ]
    },
    {
     "name": "stdout",
     "output_type": "stream",
     "text": [
      "['김혜험']\n",
      "['이미회']\n",
      "['김', '혜램']\n",
      "['없']\n",
      "['인체생명', '바켓', '리다', '매동', '거미기모']\n",
      "['미여고주니', '다업']\n",
      "['여']\n",
      "['름길', '통']\n",
      "['애주', '평려', '미의', '해다', '따']\n",
      "['끊', '비교리교']\n",
      "['김혜림']\n",
      "['용고', '시시어']\n",
      "['미미회']\n",
      "['김혜림']\n",
      "['근생', '머고리 ']\n",
      "['홍걷통']\n",
      "['최주시찌가', '브명바밀리다', '매도주이모']\n",
      "['이어고나다업']\n",
      "['여']\n",
      "['굳잡영양인제지원문매시']\n",
      "['애주', '빼', '미의', '방귀']\n",
      "['근마', '년라']\n",
      "['김혜림']\n"
     ]
    }
   ],
   "source": [
    "IMG_PATH = r'C:\\Users\\USER\\PycharmProjects\\ocr\\imagepreprocessing\\gbad'\n",
    "val_img = os.listdir(IMG_PATH)\n",
    "reader = easyocr.Reader(['ko'], gpu=True,\n",
    "                    model_storage_directory='C:/Users/USER/PycharmProjects/ocr/workspace/user_network_dir',\n",
    "                    user_network_directory='C:/Users/USER/PycharmProjects/ocr/workspace/user_network_dir',\n",
    "                    recog_network='custom')\n",
    "for f in val_img:\n",
    "    result = reader.readtext(os.path.join(IMG_PATH, f))\n",
    "    img_df = pd.DataFrame(result, columns=['bbox', 'text', 'conf'])\n",
    "    predict_list = list(img_df['text'])\n",
    "    print(predict_list)"
   ]
  },
  {
   "cell_type": "markdown",
   "id": "e9dad9e4",
   "metadata": {},
   "source": [
    "그레이 + 흑백 + 평균 + 침식"
   ]
  },
  {
   "cell_type": "code",
   "execution_count": 9,
   "id": "4c30db9d",
   "metadata": {},
   "outputs": [
    {
     "ename": "FileExistsError",
     "evalue": "[WinError 183] 파일이 이미 있으므로 만들 수 없습니다: 'C:/Users/USER/PycharmProjects/ocr/imagepreprocessing//gbae'",
     "output_type": "error",
     "traceback": [
      "\u001b[1;31m---------------------------------------------------------------------------\u001b[0m",
      "\u001b[1;31mFileExistsError\u001b[0m                           Traceback (most recent call last)",
      "Input \u001b[1;32mIn [9]\u001b[0m, in \u001b[0;36m<cell line: 4>\u001b[1;34m()\u001b[0m\n\u001b[0;32m      2\u001b[0m save_path \u001b[38;5;241m=\u001b[39m \u001b[38;5;124m'\u001b[39m\u001b[38;5;124mC:/Users/USER/PycharmProjects/ocr/imagepreprocessing/\u001b[39m\u001b[38;5;124m'\u001b[39m \n\u001b[0;32m      3\u001b[0m i \u001b[38;5;241m=\u001b[39m \u001b[38;5;241m0\u001b[39m\n\u001b[1;32m----> 4\u001b[0m \u001b[43mos\u001b[49m\u001b[38;5;241;43m.\u001b[39;49m\u001b[43mmkdir\u001b[49m\u001b[43m(\u001b[49m\u001b[38;5;124;43m\"\u001b[39;49m\u001b[38;5;132;43;01m{0}\u001b[39;49;00m\u001b[38;5;124;43m/gbae\u001b[39;49m\u001b[38;5;124;43m\"\u001b[39;49m\u001b[38;5;241;43m.\u001b[39;49m\u001b[43mformat\u001b[49m\u001b[43m(\u001b[49m\u001b[43msave_path\u001b[49m\u001b[43m)\u001b[49m\u001b[43m)\u001b[49m\n\u001b[0;32m      5\u001b[0m \u001b[38;5;28;01mfor\u001b[39;00m filename \u001b[38;5;129;01min\u001b[39;00m glob\u001b[38;5;241m.\u001b[39mglob(input_path \u001b[38;5;241m+\u001b[39m\u001b[38;5;124m\"\u001b[39m\u001b[38;5;124m*.jpg\u001b[39m\u001b[38;5;124m\"\u001b[39m):\n\u001b[0;32m      6\u001b[0m     img \u001b[38;5;241m=\u001b[39m cv2\u001b[38;5;241m.\u001b[39mimread(filename)\n",
      "\u001b[1;31mFileExistsError\u001b[0m: [WinError 183] 파일이 이미 있으므로 만들 수 없습니다: 'C:/Users/USER/PycharmProjects/ocr/imagepreprocessing//gbae'"
     ]
    }
   ],
   "source": [
    "input_path = 'C:/Users/USER/PycharmProjects/ocr/cropped/'\n",
    "save_path = 'C:/Users/USER/PycharmProjects/ocr/imagepreprocessing/' \n",
    "i = 0\n",
    "os.mkdir(\"{0}/gbae\".format(save_path))\n",
    "for filename in glob.glob(input_path +\"*.jpg\"):\n",
    "    img = cv2.imread(filename)\n",
    "    img = cv2.resize(img, None, fx=1.2, fy=1.2, interpolation=cv2.INTER_CUBIC) \n",
    "    gray = cv2.cvtColor(img, cv2.COLOR_BGR2GRAY)\n",
    "    binary = cv2.threshold(gray, 0, 255, cv2.THRESH_BINARY + cv2.THRESH_OTSU)[1]\n",
    "    avg_blur = cv2.blur(binary, (5,5)) \n",
    "    erosion = cv2.erode(avg_blur, (5,5), iterations=1)\n",
    "    i = i+1\n",
    "    cv2.imwrite(save_path +'gbae/' + f'{i}.jpg', erosion)"
   ]
  },
  {
   "cell_type": "code",
   "execution_count": null,
   "id": "6e8b912a",
   "metadata": {},
   "outputs": [
    {
     "name": "stderr",
     "output_type": "stream",
     "text": [
      "CUDA not available - defaulting to CPU. Note: This module is much faster with a GPU.\n"
     ]
    },
    {
     "name": "stdout",
     "output_type": "stream",
     "text": [
      "['김', '혜험']\n",
      "['이미회']\n"
     ]
    }
   ],
   "source": [
    "IMG_PATH = r'C:\\Users\\USER\\PycharmProjects\\ocr\\imagepreprocessing\\gbmd'\n",
    "val_img = os.listdir(IMG_PATH)\n",
    "reader = easyocr.Reader(['ko'], gpu=True,\n",
    "                    model_storage_directory='C:/Users/USER/PycharmProjects/ocr/workspace/user_network_dir',\n",
    "                    user_network_directory='C:/Users/USER/PycharmProjects/ocr/workspace/user_network_dir',\n",
    "                    recog_network='custom')\n",
    "for f in val_img:\n",
    "    result = reader.readtext(os.path.join(IMG_PATH, f))\n",
    "    img_df = pd.DataFrame(result, columns=['bbox', 'text', 'conf'])\n",
    "    predict_list = list(img_df['text'])\n",
    "    print(predict_list)"
   ]
  },
  {
   "cell_type": "code",
   "execution_count": 13,
   "id": "bd8b7fbd",
   "metadata": {},
   "outputs": [],
   "source": [
    "input_path = 'C:/Users/USER/PycharmProjects/ocr/cropped/'\n",
    "save_path = 'C:/Users/USER/PycharmProjects/ocr/imagepreprocessing/' \n",
    "i = 0\n",
    "os.mkdir(\"{0}/gb\".format(save_path))\n",
    "for filename in glob.glob(input_path +\"*.jpg\"):\n",
    "    img = cv2.imread(filename)\n",
    "    img = cv2.resize(img, None, fx=1.2, fy=1.2, interpolation=cv2.INTER_CUBIC) \n",
    "    gray = cv2.cvtColor(img, cv2.COLOR_BGR2GRAY)\n",
    "    binary = cv2.threshold(gray, 0, 255, cv2.THRESH_BINARY + cv2.THRESH_OTSU)[1]\n",
    "    median_blur = cv2.medianBlur(binary, ksize=5)\n",
    "    erosion = cv2.erode(median_blur, (5,5), iterations=1)\n",
    "    i = i+1\n",
    "    cv2.imwrite(save_path +'gb/' + f'{i}.jpg', erosion)"
   ]
  },
  {
   "cell_type": "code",
   "execution_count": null,
   "id": "549fe788",
   "metadata": {},
   "outputs": [],
   "source": [
    "import easyocr\n",
    "import os\n",
    "from sklearn.metrics import accuracy_score\n",
    "import shutil\n",
    "import json\n",
    "import itertools\n",
    "import cv2\n",
    "import glob\n",
    "import numpy as np\n",
    "from scipy.spatial import distance as dist\n",
    "import matplotlib.pyplot as plt \n",
    "import requests\n",
    "from PIL import Image\n",
    "import pandas as pd\n",
    "import tensorflow as tf\n",
    "import faulthandler\n",
    "\n",
    "faulthandler.enable()\n",
    "\n",
    "class ocr:\n",
    "    def __init__(self, IMG_PATH):\n",
    "        self.IMG_PATH = IMG_PATH\n",
    "\n",
    "    def run_easyocr(self):\n",
    "        val_img = os.listdir(self.IMG_PATH)\n",
    "        reader = easyocr.Reader(['ko'], gpu=True)\n",
    "        dfs = []\n",
    "        for f in val_img:\n",
    "            result = reader.readtext(os.path.join(self.IMG_PATH, f))\n",
    "            print(result)\n",
    "            img_df = pd.DataFrame(result, columns=['bbox', 'text', 'conf'])\n",
    "            img_df['image'] = f\n",
    "            dfs.append(img_df)\n",
    "            if len(dfs) % 20 == 0:\n",
    "                print('easyocr done: ', len(dfs))\n",
    "        easyocr_df = pd.concat(dfs)\n",
    "        easyocr_df.to_csv('easyocr_results.csv', index=False, encoding='utf-8-sig')\n",
    "\n",
    "a=ocr(r'C:\\Users\\USER\\PycharmProjects\\ocr\\workspace_aihubdata\\demo_images')\n",
    "a.run_easyocr()"
   ]
  },
  {
   "cell_type": "code",
   "execution_count": 25,
   "id": "bf8efbb0",
   "metadata": {},
   "outputs": [],
   "source": [
    "class pre:\n",
    "    def __init__(self, inputpath, savepath,imagepath):\n",
    "        self.inputpath = inputpath\n",
    "        self.savepath = savepath\n",
    "        self.imagepath = imagepath\n",
    "\n",
    "    # 이미지 보정\n",
    "    def make_image(self):\n",
    "        i = 0\n",
    "        os.mkdir(\"{0}/image\".format(self.savepath))\n",
    "        for filename in glob.glob(self.inputpath +\"*.jpg\"):\n",
    "            img = cv2.imread(filename)\n",
    "            img = cv2.resize(img, None, fx=1.2, fy=1.2, interpolation=cv2.INTER_CUBIC) # DPI 300으로 설정\n",
    "            gray = cv2.cvtColor(img, cv2.COLOR_BGR2GRAY) \n",
    "            binary = cv2.threshold(gray, 0, 255, cv2.THRESH_BINARY + cv2.THRESH_OTSU)[1] # black & white\n",
    "            avg_blur = cv2.blur(binary, (5,5)) \n",
    "            delation = cv2.dilate(avg_blur, (5,5), iterations=1)\n",
    "            i = i+1\n",
    "            cv2.imwrite(self.savepath +'image/' + f'{i}.jpg', delation)\n",
    "    \n",
    "    # 보정된 이미지로 ocr 후 csv파일로 return\n",
    "    def run_easyocr(self):\n",
    "        val_img = os.listdir(self.imagepath)\n",
    "        reader = easyocr.Reader(['ko'], gpu=True)\n",
    "        dfs = []\n",
    "        for f in val_img:\n",
    "            result = reader.readtext(os.path.join(self.imagepath, f))\n",
    "            print(result)\n",
    "            img_df = pd.DataFrame(result, columns=['bbox', 'text', 'conf'])\n",
    "            img_df['image'] = f\n",
    "            dfs.append(img_df)\n",
    "            if len(dfs) % 20 == 0:\n",
    "                print('easyocr done: ', len(dfs))\n",
    "        easyocr_df = pd.concat(dfs)\n",
    "        easyocr_df.to_csv('easyocr_results.csv', index=False, encoding='utf-8-sig')"
   ]
  },
  {
   "cell_type": "code",
   "execution_count": 26,
   "id": "ea064729",
   "metadata": {},
   "outputs": [],
   "source": [
    "a=pre('C:/Users/USER/PycharmProjects/ocr/cropped/',\n",
    "     'C:/Users/USER/PycharmProjects/ocr/imagepreprocessing/',\n",
    "     'C:/Users/USER/PycharmProjects/ocr/imagepreprocessing/image/')"
   ]
  },
  {
   "cell_type": "code",
   "execution_count": 27,
   "id": "158a0b26",
   "metadata": {},
   "outputs": [],
   "source": [
    "a.make_image()"
   ]
  },
  {
   "cell_type": "code",
   "execution_count": 29,
   "id": "f429a348",
   "metadata": {},
   "outputs": [
    {
     "name": "stderr",
     "output_type": "stream",
     "text": [
      "CUDA not available - defaulting to CPU. Note: This module is much faster with a GPU.\n"
     ]
    },
    {
     "name": "stdout",
     "output_type": "stream",
     "text": [
      "[([[123, 5], [373, 5], [373, 65], [123, 65]], ' 예림', 0.14150679111480713)]\n",
      "[([[154, 10], [349, 10], [349, 84], [154, 84]], '이미희', 0.9895835351230753)]\n",
      "[([[109, 9], [195, 9], [195, 77], [109, 77]], '7', 0.5249742699309223), ([[222, 10], [404, 10], [404, 66], [222, 66]], '헤 김', 0.3250131050762044)]\n",
      "[([[95, 13], [295, 13], [295, 77], [95, 77]], \"(리(-'다\", 0.5669152199956563)]\n",
      "[([[12, 6], [213, 6], [213, 79], [12, 79]], '(떼생영', 0.14858663082122803), ([[228, 18], [330, 18], [330, 66], [228, 66]], '(4라', 0.05801654755368553), ([[353, 21], [447, 21], [447, 65], [353, 65]], '리다', 0.9415249944496006), ([[557, 12], [709, 12], [709, 66], [557, 66]], '(00유', 0.1541651487350464), ([[728, 7], [912, 7], [912, 68], [728, 68]], '거이크', 0.07881600798191138)]\n",
      "[([[17, 15], [296, 15], [296, 82], [17, 82]], '0(0- 1234', 0.662294320407206), ([[339, 15], [517, 15], [517, 75], [339, 75]], '[679', 0.2098737235261244)]\n",
      "[([[150, 14], [202, 14], [202, 64], [150, 64]], '여', 0.739153719915123)]\n",
      "[([[106, 0], [242, 0], [242, 78], [106, 78]], '훌길', 0.05400042407140536), ([[257, 9], [329, 9], [329, 71], [257, 71]], '동', 0.8606206232662181)]\n",
      "[([[74, 24], [190, 24], [190, 76], [74, 76]], '047', 0.5752150167174447), ([[211, 43], [233, 43], [233, 59], [211, 59]], '2', 0.19847849623042535), ([[254, 20], [364, 20], [364, 72], [254, 72]], '7 19', 0.8554516109155944), ([[409, 41], [437, 41], [437, 61], [409, 61]], '', 0.0), ([[440, 6], [584, 6], [584, 80], [440, 80]], '1234', 0.8033615350723267)]\n",
      "[([[270, 30], [429, 30], [429, 95], [270, 95]], '22', 0.5777093746032802), ([[507, 13], [743, 13], [743, 77], [507, 77]], '년 (2월 2일', 0.5479851348189326)]\n",
      "[([[188, 38], [419, 38], [419, 118], [188, 118]], '김혜림', 0.11060285961202267)]\n",
      "[([[63, 5], [145, 5], [145, 66], [63, 66]], '92', 0.4607860087727695), ([[194, 10], [324, 10], [324, 62], [194, 62]], '(1 (다', 0.53079378508529)]\n",
      "[([[176, 21], [389, 21], [389, 89], [176, 89]], '이미흐(', 0.2760181427001953)]\n",
      "[([[51, 17], [295, 17], [295, 83], [51, 83]], '길혜리', 0.30529916286468506)]\n",
      "[([[61, 35], [201, 35], [201, 77], [61, 77]], '관2', 0.21263815972661584), ([[226, 30], [392, 30], [392, 85], [226, 85]], '(2 .라0', 0.29017924003035195)]\n",
      "[([[49, 5], [257, 5], [257, 86], [49, 86]], '홍기동', 0.39539802290532894)]\n",
      "[([[0, 5], [300, 5], [300, 67], [0, 67]], '방꾸시  흉', 0.10538079482079625), ([[319, 10], [718, 10], [718, 67], [319, 67]], '입불성명 ((리 리다', 0.012789263742181116), ([[768, 5], [1113, 5], [1113, 67], [768, 67]], '(07디 ?이1블', 0.013126277095001243)]\n",
      "[([[29, 1], [533, 1], [533, 69], [29, 69]], '00-(2나 - 다6\"8', 0.09209691230483445)]\n",
      "[([[102, 10], [162, 10], [162, 58], [102, 58]], '여', 0.9845873184876872)]\n",
      "[([[71, 4], [620, 4], [620, 85], [71, 85]], '귀굽노0인제자원은다0', 0.007869513787167286)]\n",
      "easyocr done:  20\n",
      "[([[105, 13], [235, 13], [235, 75], [105, 75]], '04곧', 0.0797950784696429), ([[241, 31], [271, 31], [271, 51], [241, 51]], \"'\", 0.5029201216033563), ([[290, 14], [394, 14], [394, 64], [290, 64]], '79', 0.6954709058912772), ([[443, 9], [593, 9], [593, 69], [443, 69]], '063', 0.12440502498640861)]\n",
      "[([[338, 56], [498, 56], [498, 106], [338, 106]], '7이22', 0.1303125023841858), ([[543, 47], [777, 47], [777, 109], [543, 109]], \"년 (2월 26'\", 0.48835193875835037)]\n",
      "[([[205, 51], [443, 51], [443, 115], [205, 115]], '7 폐리', 0.40421795819919143)]\n"
     ]
    }
   ],
   "source": [
    "a.run_easyocr()"
   ]
  },
  {
   "cell_type": "code",
   "execution_count": null,
   "id": "d3872c11",
   "metadata": {},
   "outputs": [],
   "source": [
    "i = 0\n",
    "os.mkdir(\"{0}/gbae\".format(save_path))\n",
    "for filename in glob.glob(input_path +\"*.jpg\"):\n",
    "    img = cv2.imread(filename)\n",
    "    img = cv2.resize(img, None, fx=1.2, fy=1.2, interpolation=cv2.INTER_CUBIC) \n",
    "    gray = cv2.cvtColor(img, cv2.COLOR_BGR2GRAY)\n",
    "    binary = cv2.threshold(gray, 0, 255, cv2.THRESH_BINARY + cv2.THRESH_OTSU)[1]\n",
    "    avg_blur = cv2.blur(binary, (5,5)) \n",
    "    erosion = cv2.erode(avg_blur, (5,5), iterations=1)\n",
    "    i = i+1\n",
    "    cv2.imwrite(save_path +'gbae/' + f'{i}.jpg', erosion)"
   ]
  },
  {
   "cell_type": "code",
   "execution_count": null,
   "id": "07c2d801",
   "metadata": {},
   "outputs": [],
   "source": [
    "def make_image(self):\n",
    "    i = 0\n",
    "    os.mkdir(\"{0}/gb\".format(self.savepath))\n",
    "    for filename in glob.glob(self.inputpath +\"*.jpg\"):\n",
    "        img = cv2.imread(filename)\n",
    "        img = cv2.resize(img, None, fx=1.2, fy=1.2, interpolation=cv2.INTER_CUBIC) # DPI 300으로 설정\n",
    "        gray = cv2.cvtColor(img, cv2.COLOR_BGR2GRAY) \n",
    "        binary = cv2.threshold(gray, 0, 255, cv2.THRESH_BINARY + cv2.THRESH_OTSU)[1] # black & white\n",
    "        avg_blur = cv2.blur(binary, (5,5)) \n",
    "        delation = cv2.dilate(avg_blur, (5,5), iterations=1)\n",
    "        i = i+1\n",
    "        cv2.imwrite(self.savepath + f'{i}.jpg', delation)"
   ]
  },
  {
   "cell_type": "code",
   "execution_count": null,
   "id": "2bed1bb5",
   "metadata": {},
   "outputs": [],
   "source": []
  }
 ],
 "metadata": {
  "kernelspec": {
   "display_name": "Python 3",
   "language": "python",
   "name": "python3"
  },
  "language_info": {
   "codemirror_mode": {
    "name": "ipython",
    "version": 3
   },
   "file_extension": ".py",
   "mimetype": "text/x-python",
   "name": "python",
   "nbconvert_exporter": "python",
   "pygments_lexer": "ipython3",
   "version": "3.9.12"
  }
 },
 "nbformat": 4,
 "nbformat_minor": 5
}
