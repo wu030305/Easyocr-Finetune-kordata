{
 "cells": [
  {
   "cell_type": "code",
   "execution_count": 8,
   "id": "52ee58d3",
   "metadata": {},
   "outputs": [],
   "source": [
    "import easyocr\n",
    "import os\n",
    "import cv2\n",
    "import glob\n",
    "import pandas as pd\n",
    "import torch\n",
    "from PIL import Image"
   ]
  },
  {
   "cell_type": "code",
   "execution_count": 5,
   "id": "84d24080",
   "metadata": {},
   "outputs": [],
   "source": [
    "save_path = \"C:/Users/USER/PycharmProjects/ocr/imagepreprocessing/\"\n",
    "input_path = \"C:/Users/USER/PycharmProjects/ocr/cropped/\""
   ]
  },
  {
   "cell_type": "code",
   "execution_count": 11,
   "id": "8040bb84",
   "metadata": {},
   "outputs": [],
   "source": [
    "i = 0\n",
    "os.mkdir(\"{0}/gb\".format(save_path))\n",
    "for filename in glob.glob(input_path +\"*.jpg\"):\n",
    "    img = cv2.imread(filename)\n",
    "    img = cv2.resize(img, None, fx=1.2, fy=1.2, interpolation=cv2.INTER_CUBIC) \n",
    "    gray = cv2.cvtColor(img, cv2.COLOR_BGR2GRAY)\n",
    "    binary = cv2.threshold(gray, 0, 255, cv2.THRESH_BINARY + cv2.THRESH_OTSU)[1]\n",
    "    avg_blur = cv2.blur(binary, (5,5)) \n",
    "    erosion = cv2.erode(avg_blur, (5,5), iterations=1)\n",
    "    RGBimage = cv2.cvtColor(erosion, cv2.COLOR_BGR2RGB)\n",
    "    PILimage = Image.fromarray(RGBimage)\n",
    "    i = i+1\n",
    "    PILimage.save(save_path + 'gb/'+ f'{i}.jpg', dpi=(300.0, 300.0))"
   ]
  }
 ],
 "metadata": {
  "kernelspec": {
   "display_name": "korocr",
   "language": "python",
   "name": "korocr"
  },
  "language_info": {
   "codemirror_mode": {
    "name": "ipython",
    "version": 3
   },
   "file_extension": ".py",
   "mimetype": "text/x-python",
   "name": "python",
   "nbconvert_exporter": "python",
   "pygments_lexer": "ipython3",
   "version": "3.7.2"
  }
 },
 "nbformat": 4,
 "nbformat_minor": 5
}
